{
  "nbformat": 4,
  "nbformat_minor": 0,
  "metadata": {
    "colab": {
      "provenance": [],
      "toc_visible": true,
      "include_colab_link": true
    },
    "kernelspec": {
      "name": "python3",
      "display_name": "Python 3"
    },
    "language_info": {
      "name": "python"
    }
  },
  "cells": [
    {
      "cell_type": "markdown",
      "metadata": {
        "id": "view-in-github",
        "colab_type": "text"
      },
      "source": [
        "<a href=\"https://colab.research.google.com/github/wpcastro/cloudmart1/blob/main/Redeneural.ipynb\" target=\"_parent\"><img src=\"https://colab.research.google.com/assets/colab-badge.svg\" alt=\"Open In Colab\"/></a>"
      ]
    },
    {
      "cell_type": "code",
      "execution_count": null,
      "metadata": {
        "id": "SCwrG2p1x4qX"
      },
      "outputs": [],
      "source": [
        "# Instalação, Bibliotecas e Download do Banco de Dados\n",
        "\n",
        "# Instala a biblioteca gdown para baixar arquivos do Google Drive\n",
        "!pip install gdown -q\n",
        "\n",
        "import pandas as pd\n",
        "import gdown\n",
        "import zipfile\n",
        "import os\n",
        "\n",
        "# --- Download e Descompactação do Dataset ---\n",
        "# ID do arquivo público contendo o dataset Telco Customer Churn\n",
        "id_arquivo = '1Me_iRxS_5v0IuGspS5g-C7wHn_vQVXWp'\n",
        "output_zip = 'telco-churn.zip'\n",
        "\n",
        "print(\"Baixando o banco de dados...\")\n",
        "gdown.download(id=id_arquivo, output=output_zip, quiet=False)\n",
        "\n",
        "print(\"\\nDescompactando o arquivo...\")\n",
        "with zipfile.ZipFile(output_zip, 'r') as zip_ref:\n",
        "    zip_ref.extractall('./')\n",
        "\n",
        "# --- Carregamento e Vistoria dos Dados ---\n",
        "# O nome do arquivo dentro do zip é 'WA_Fn-UseC_-Telco-Customer-Churn.csv'\n",
        "caminho_csv = 'WA_Fn-UseC_-Telco-Customer-Churn.csv'\n",
        "df_clientes = pd.read_csv(caminho_csv)\n",
        "\n",
        "print(\"\\nBanco de dados carregado com sucesso! As 5 primeiras linhas são:\")\n",
        "pd.set_option('display.max_columns', None) # Garante que todas as colunas sejam exibidas\n",
        "print(df_clientes.head())\n",
        "\n",
        "print(f\"\\nO banco de dados possui {df_clientes.shape[0]} linhas e {df_clientes.shape[1]} colunas.\")"
      ]
    },
    {
      "cell_type": "markdown",
      "source": [
        "Instalação, Bibliotecas e Download do Banco de Dados"
      ],
      "metadata": {
        "id": "ynkSedUOyFzu"
      }
    },
    {
      "cell_type": "code",
      "source": [
        "# Pré-processamento e Preparação dos Dados\n",
        "\n",
        "from sklearn.model_selection import train_test_split\n",
        "from sklearn.preprocessing import StandardScaler\n",
        "\n",
        "# --- Limpeza dos Dados ---\n",
        "# A coluna 'TotalCharges' tem espaços em branco para clientes novos.\n",
        "# Convertemos para numérico, forçando erros a se tornarem 'NaN' (Not a Number)\n",
        "df_clientes['TotalCharges'] = pd.to_numeric(df_clientes['TotalCharges'], errors='coerce')\n",
        "\n",
        "# Preenchemos os valores 'NaN' com a mediana da coluna, uma abordagem robusta.\n",
        "df_clientes['TotalCharges'].fillna(df_clientes['TotalCharges'].median(), inplace=True)\n",
        "\n",
        "# Removemos a ID do cliente, que não é útil para a previsão\n",
        "df_clientes = df_clientes.drop('customerID', axis=1)\n",
        "\n",
        "# --- Transformação de Dados ---\n",
        "# Convertendo a coluna alvo 'Churn' de 'Yes'/'No' para 1/0\n",
        "df_clientes['Churn'] = df_clientes['Churn'].apply(lambda x: 1 if x == 'Yes' else 0)\n",
        "\n",
        "# Convertendo todas as outras colunas de texto em colunas numéricas (One-Hot Encoding)\n",
        "df_clientes_dummies = pd.get_dummies(df_clientes)\n",
        "\n",
        "# --- Separação e Normalização ---\n",
        "# Separando as features (X) do alvo (y)\n",
        "X = df_clientes_dummies.drop('Churn', axis=1)\n",
        "y = df_clientes_dummies['Churn']\n",
        "\n",
        "# Normalizando as features para que a rede neural funcione melhor\n",
        "scaler = StandardScaler()\n",
        "X_scaled = scaler.fit_transform(X)\n",
        "\n",
        "# Dividindo os dados em 80% para treino e 20% para teste\n",
        "X_treino, X_teste, y_treino, y_teste = train_test_split(X_scaled, y, test_size=0.20, random_state=42, stratify=y)\n",
        "\n",
        "print(\"Dados limpos, transformados e divididos com sucesso!\")\n",
        "print(f\"Número de features após a transformação: {X.shape[1]}\")"
      ],
      "metadata": {
        "id": "sPLOJnPtyJJJ"
      },
      "execution_count": null,
      "outputs": []
    },
    {
      "cell_type": "markdown",
      "source": [
        "Pré-processamento e Preparação dos Dados"
      ],
      "metadata": {
        "id": "KYA6_5K1yL_Y"
      }
    },
    {
      "cell_type": "code",
      "source": [
        "# Treinar a Rede Neural para Prever Churn\n",
        "\n",
        "from sklearn.neural_network import MLPClassifier\n",
        "\n",
        "# Criando a rede neural. Uma arquitetura com duas camadas ocultas é um bom ponto de partida.\n",
        "modelo_churn = MLPClassifier(hidden_layer_sizes=(16, 8), activation='relu', solver='adam', max_iter=500, random_state=42)\n",
        "\n",
        "# Treinando o modelo com os dados de treino preparados\n",
        "print(\"Iniciando o treinamento do modelo de previsão de churn...\")\n",
        "modelo_churn.fit(X_treino, y_treino)\n",
        "print(\"Treinamento concluído!\")"
      ],
      "metadata": {
        "id": "9kUsqvNNyZPR"
      },
      "execution_count": null,
      "outputs": []
    },
    {
      "cell_type": "markdown",
      "source": [
        "Treinar a Rede Neural para Prever Churn"
      ],
      "metadata": {
        "id": "JeuXgEK8ypx1"
      }
    },
    {
      "cell_type": "code",
      "source": [
        "# Avaliação e Interpretação de Negócio\n",
        "\n",
        "from sklearn.metrics import confusion_matrix, accuracy_score, classification_report\n",
        "\n",
        "# O modelo faz previsões no conjunto de teste (clientes que ele nunca viu)\n",
        "previsoes = modelo_churn.predict(X_teste)\n",
        "\n",
        "# 1. Acurácia Geral\n",
        "acuracia = accuracy_score(y_teste, previsoes)\n",
        "print(f\"Acurácia Geral do Modelo: {acuracia:.2%}\\n\")\n",
        "\n",
        "# 2. Relatório de Classificação Detalhado\n",
        "# Observe o 'recall' para a classe 1: ele mostra a % de clientes com churn que o modelo conseguiu \"capturar\"\n",
        "print(\"Relatório de Classificação:\")\n",
        "print(classification_report(y_teste, previsoes, target_names=['Ficou (0)', 'Saiu (1)']))\n",
        "\n",
        "# 3. Matriz de Confusão com Interpretação de Negócio\n",
        "print(\"--- Matriz de Confusão e Análise de Negócio ---\")\n",
        "matriz = confusion_matrix(y_teste, previsoes)\n",
        "\n",
        "verdadeiros_negativos, falsos_positivos = matriz[0]\n",
        "falsos_negativos, verdadeiros_positivos = matriz[1]\n",
        "\n",
        "print(f\"Clientes que ficaram e o modelo previu corretamente: {verdadeiros_negativos} (Acerto)\")\n",
        "print(f\"Clientes que ficaram mas o modelo previu que sairiam: {falsos_positivos} (Erro - Custo de retenção desnecessário)\")\n",
        "print(f\"Clientes que saíram mas o modelo previu que ficariam: {falsos_negativos} (Erro - Perda de receita inesperada)\")\n",
        "print(f\"Clientes que saíram e o modelo previu corretamente: {verdadeiros_positivos} (Acerto - Oportunidade de ação!)\")\n",
        "\n",
        "print(f\"\\nInsight de Negócio: O modelo identificou corretamente {verdadeiros_positivos} clientes que iriam cancelar. A equipe de retenção pode agora focar seus esforços nesse grupo para tentar revertê-los.\")"
      ],
      "metadata": {
        "id": "BnwNn_H-yq-G"
      },
      "execution_count": null,
      "outputs": []
    },
    {
      "cell_type": "markdown",
      "source": [
        " Avaliação e Interpretação de Negócio"
      ],
      "metadata": {
        "id": "G-tKsO0iy1H6"
      }
    }
  ]
}